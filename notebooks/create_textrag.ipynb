{
 "cells": [
  {
   "cell_type": "code",
   "execution_count": 1,
   "id": "1d13fafe",
   "metadata": {},
   "outputs": [
    {
     "data": {
      "text/plain": [
       "'llx-8X3oeM4OXz1Gmsu7YfI4AQdDkzkAZbE3ejHFXWbslhfBaOmS'"
      ]
     },
     "execution_count": 1,
     "metadata": {},
     "output_type": "execute_result"
    }
   ],
   "source": [
    "\n",
    "import os\n",
    "import asyncio\n",
    "from llama_parse import LlamaParse\n",
    "from llama_index.core import VectorStoreIndex\n",
    "from llama_index.core.node_parser import SimpleNodeParser\n",
    "from llama_index.core.schema import Document\n",
    "import nest_asyncio\n",
    "nest_asyncio.apply()\n",
    "\n",
    "from dotenv import load_dotenv\n",
    "load_dotenv(\"../config.env\")\n",
    "os.environ.get(\"OPENAI_API_KEY\")\n",
    "os.environ.get(\"LLAMAPARSE_API_KEY\")"
   ]
  },
  {
   "cell_type": "code",
   "execution_count": 2,
   "id": "0a79afb5",
   "metadata": {},
   "outputs": [],
   "source": [
    "# instantiate LlamaParse\n",
    "parser = LlamaParse(\n",
    "    api_key=os.environ.get(\"LLAMAPARSE_API_KEY\"),\n",
    "    result_type=\"markdown\",  # or \"text\"\n",
    "    extract_charts=True,\n",
    "    auto_mode=True,\n",
    "    auto_mode_trigger_on_image_in_page=True,\n",
    "    auto_mode_trigger_on_table_in_page=True,\n",
    "    bbox_top=0.05,\n",
    "    bbox_bottom=0.1,\n",
    "    verbose=True\n",
    ")\n",
    "\n",
    "# documents = parser.load_data(f\"GuidelinesSections/Kenya-ARV-Guidelines-2022-HepB-HepC-Coinfection.pdf\")\n",
    "# # Write the output to a file\n",
    "# with open(\"output.md\", \"w\", encoding=\"utf-8\") as f:\n",
    "#    for doc in documents:\n",
    "#        f.write(doc.text)\n",
    "# filename=\"GuidelinesSections/Kenya-ARV-Guidelines-2022-HepB-HepC-Coinfection.pdf\"\n",
    "# full_text = \"\\n\\n\".join(doc.text for doc in documents)\n",
    "# combined_doc = Document(text=full_text)\n",
    "# node_parser = SimpleNodeParser()\n",
    "# nodes = node_parser.get_nodes_from_documents([combined_doc])\n",
    "# # create the index\n",
    "# index = VectorStoreIndex(nodes)\n",
    "# # remove \"Kenya-ARV-Guidelines-2022-\" from filename\n",
    "# short_filename = filename.replace(\"GuidelinesSections/Kenya-ARV-Guidelines-2022-\",\"\").replace(\".pdf\", \"\")\n",
    "# # persist the index\n",
    "# index.storage_context.persist(f\"lp/indices/{short_filename}\")\n"
   ]
  },
  {
   "cell_type": "code",
   "execution_count": null,
   "id": "4e94da2b",
   "metadata": {},
   "outputs": [],
   "source": []
  },
  {
   "cell_type": "code",
   "execution_count": null,
   "id": "3ea85ed0",
   "metadata": {},
   "outputs": [],
   "source": [
    "# iterate through all files in guidance_docs/GuidelinesSections\n",
    "# first, load the data using the parser\n",
    "# then, flatted the data in each doc to create a single large doc per section\n",
    "# finally, chunk the data using SentenceSplitter (tight size control)\n",
    "async def parse_docs():\n",
    "    for filename in os.listdir(\"GuidelinesSections\"):\n",
    "        if filename.endswith(\".pdf\"):\n",
    "            documents = parser.load_data(f\"GuidelinesSections/{filename}\")\n",
    "            full_text = \"\\n\\n\".join(doc.text for doc in documents)\n",
    "            combined_doc = Document(text=full_text)\n",
    "            node_parser = SimpleNodeParser()\n",
    "            nodes = node_parser.get_nodes_from_documents([combined_doc])\n",
    "            # create the index\n",
    "            index = VectorStoreIndex(nodes)\n",
    "            # remove \"Kenya-ARV-Guidelines-2022-\" from filename\n",
    "            short_filename = filename.replace(\"Kenya-ARV-Guidelines-2022-\",\"\").replace(\".pdf\", \"\")\n",
    "            # persist the index\n",
    "            index.storage_context.persist(f\"lp/indices/{short_filename}\")\n",
    "        \n",
    "await parse_docs()\n"
   ]
  },
  {
   "cell_type": "code",
   "execution_count": 2,
   "id": "7135ce0d",
   "metadata": {},
   "outputs": [
    {
     "name": "stdout",
     "output_type": "stream",
     "text": [
      "Loading llama_index.core.storage.kvstore.simple_kvstore from ../data/processed/lp_kenya_arv_guidelines/docstore.json.\n",
      "Loading llama_index.core.storage.kvstore.simple_kvstore from ../data/processed/lp_kenya_arv_guidelines/index_store.json.\n"
     ]
    }
   ],
   "source": [
    "from llama_index.core import StorageContext, load_index_from_storage\n",
    "from llama_index.core.retrievers import VectorIndexRetriever\n",
    "# load lp_kenya_arv_guidelines\n",
    "storage_context = StorageContext.from_defaults(persist_dir=\"../data/processed/lp_kenya_arv_guidelines\")\n",
    "index = load_index_from_storage(storage_context)\n",
    "# raw_retriever = VectorIndexRetriever(index=index, similarity_top_k=3)"
   ]
  },
  {
   "cell_type": "code",
   "execution_count": 6,
   "id": "56e29f5f",
   "metadata": {},
   "outputs": [
    {
     "name": "stdout",
     "output_type": "stream",
     "text": [
      "Number of nodes: 288\n"
     ]
    }
   ],
   "source": [
    "# get the number of nodes in the index\n",
    "# Get all node IDs from the docstore\n",
    "node_ids = list(index.docstore.docs.keys())  # dict of {node_id: node}\n",
    "num_nodes = len(node_ids)\n",
    "\n",
    "print(f\"Number of nodes: {num_nodes}\")"
   ]
  },
  {
   "cell_type": "code",
   "execution_count": 8,
   "id": "bfa61623",
   "metadata": {},
   "outputs": [
    {
     "name": "stdout",
     "output_type": "stream",
     "text": [
      "Node ID: f2f1fb3d-78e9-4aa9-85f2-742e9df34e31\n",
      "Node Text: Kenya HIV Prevention and Treatment Guidelines, 2022\n",
      "\n",
      "▪ Pregnant or breastfeeding: at confirmation of pregnancy (if already on ART) or 3 months after ART initiation (if ART initiated during pregnancy/breastfeeding), and then every 6 months until complete cessation of breastfeeding\n",
      "\n",
      "▪ Before any drug substitution (if no VL result available from the prior 6 months)\n",
      "\n",
      "▪ Three months after any regimen modification (including single-drug substitution)\n",
      "\n",
      "● PLHIV should receive differentiated care based on initial evaluation (advanced vs. well) and follow up (established vs not established on ART)\n",
      "\n",
      "# 1.3 Standard Package of Care for PLHIV\n",
      "\n",
      "Consists of 8 components:\n",
      "\n",
      "1. Antiretroviral Therapy\n",
      "- All PLHIV are eligible for ART irrespective of CD4 cell count or percentage, WHO clinical stage, age, pregnancy status, or comorbidities\n",
      "- ART should be initiated as soon as the patient is ready to start, preferably within two weeks from time of HIV diagnosis (except for patients with cryptococcal meningitis or TB meningitis)\n",
      "2. Positive Health, Dignity, and Prevention, GBV/IPV &#x26; HIV Education and Counselling\n",
      "- All patients should be counselled and supported for disclosure of HIV status; partner/ family testing and engagement; condom use; family planning; sexually transmitted infections screening; treatment adherence; and pre-exposure prophylaxis for HIV-negative sexual partners\n",
      "- All females aged 15-49 years and emancipated minors accessing HIV care services should be screened for Intimate Partner Violence (IPV) as part of the standard package of care\n",
      "- All PLHIV should be provided with HIV education and counselling\n",
      "3. Screening for and Prevention of Specific Opportunistic Infections\n",
      "Cotrimoxazole Preventive Therapy (CPT) is no longer recommended as life-long prophylaxis, and is only recommended in the following sub populations, unless they have an allergy to sulfur drugs or develop toxicity from CPT:\n",
      "\n",
      "- All HIV Exposed Infants\n",
      "- HIV infected children &#x3C; 15 years of age\n",
      "- All PLHIV > 15 years of age:\n",
      "- Living in malaria-endemic zones (Refer to the National Guidelines for the Diagnosis, Treatment and Prevention of Malaria in Kenya for the current Kenya Malaria endemicity map)\n",
      "- Presenting with WHO stage 3 or 4 event, or meeting the AHD criteria\n",
      "- Suspected treatment failure\n",
      "- All Pregnant and Breast-feeding women\n",
      "\n",
      "1 - 2\n"
     ]
    }
   ],
   "source": [
    "import random\n",
    "\n",
    "# Get all nodes\n",
    "nodes = list(index.docstore.docs.values())\n",
    "\n",
    "# Pick a random node\n",
    "random_node = random.choice(nodes)\n",
    "print(\"Node ID:\", random_node.node_id)\n",
    "print(\"Node Text:\", random_node.get_content())"
   ]
  }
 ],
 "metadata": {
  "kernelspec": {
   "display_name": "clinician-assistant-lg",
   "language": "python",
   "name": "python3"
  },
  "language_info": {
   "codemirror_mode": {
    "name": "ipython",
    "version": 3
   },
   "file_extension": ".py",
   "mimetype": "text/x-python",
   "name": "python",
   "nbconvert_exporter": "python",
   "pygments_lexer": "ipython3",
   "version": "3.12.1"
  }
 },
 "nbformat": 4,
 "nbformat_minor": 5
}
