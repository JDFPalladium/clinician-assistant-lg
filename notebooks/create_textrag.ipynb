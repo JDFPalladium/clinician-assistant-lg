{
 "cells": [
  {
   "cell_type": "code",
   "execution_count": null,
   "id": "1d13fafe",
   "metadata": {},
   "outputs": [],
   "source": [
    "\n",
    "import os\n",
    "import asyncio\n",
    "from llama_parse import LlamaParse\n",
    "from llama_index.core import VectorStoreIndex\n",
    "from llama_index.core.node_parser import SimpleNodeParser\n",
    "from llama_index.core.schema import Document\n",
    "import nest_asyncio\n",
    "nest_asyncio.apply()\n",
    "\n",
    "from dotenv import load_dotenv\n",
    "load_dotenv(\"../config.env\")\n",
    "os.environ.get(\"OPENAI_API_KEY\")\n",
    "os.environ.get(\"LLAMAPARSE_API_KEY\")"
   ]
  },
  {
   "cell_type": "code",
   "execution_count": null,
   "id": "0a79afb5",
   "metadata": {},
   "outputs": [],
   "source": [
    "# instantiate LlamaParse\n",
    "parser = LlamaParse(\n",
    "    api_key=os.environ.get(\"LLAMAPARSE_API_KEY\"),\n",
    "    result_type=\"markdown\",  # or \"text\"\n",
    "    extract_charts=True,\n",
    "    auto_mode=True,\n",
    "    auto_mode_trigger_on_image_in_page=True,\n",
    "    auto_mode_trigger_on_table_in_page=True,\n",
    "    bbox_top=0.05,\n",
    "    bbox_bottom=0.1,\n",
    "    verbose=True\n",
    ")\n",
    "\n",
    "# documents = parser.load_data(f\"GuidelinesSections/Kenya-ARV-Guidelines-2022-HepB-HepC-Coinfection.pdf\")\n",
    "# # Write the output to a file\n",
    "# with open(\"output.md\", \"w\", encoding=\"utf-8\") as f:\n",
    "#    for doc in documents:\n",
    "#        f.write(doc.text)\n",
    "# filename=\"GuidelinesSections/Kenya-ARV-Guidelines-2022-HepB-HepC-Coinfection.pdf\"\n",
    "# full_text = \"\\n\\n\".join(doc.text for doc in documents)\n",
    "# combined_doc = Document(text=full_text)\n",
    "# node_parser = SimpleNodeParser()\n",
    "# nodes = node_parser.get_nodes_from_documents([combined_doc])\n",
    "# # create the index\n",
    "# index = VectorStoreIndex(nodes)\n",
    "# # remove \"Kenya-ARV-Guidelines-2022-\" from filename\n",
    "# short_filename = filename.replace(\"GuidelinesSections/Kenya-ARV-Guidelines-2022-\",\"\").replace(\".pdf\", \"\")\n",
    "# # persist the index\n",
    "# index.storage_context.persist(f\"lp/indices/{short_filename}\")\n"
   ]
  },
  {
   "cell_type": "code",
   "execution_count": null,
   "id": "4e94da2b",
   "metadata": {},
   "outputs": [],
   "source": []
  },
  {
   "cell_type": "code",
   "execution_count": null,
   "id": "3ea85ed0",
   "metadata": {},
   "outputs": [],
   "source": [
    "# iterate through all files in guidance_docs/GuidelinesSections\n",
    "# first, load the data using the parser\n",
    "# then, flatted the data in each doc to create a single large doc per section\n",
    "# finally, chunk the data using SentenceSplitter (tight size control)\n",
    "async def parse_docs():\n",
    "    for filename in os.listdir(\"GuidelinesSections\"):\n",
    "        if filename.endswith(\".pdf\"):\n",
    "            documents = parser.load_data(f\"GuidelinesSections/{filename}\")\n",
    "            full_text = \"\\n\\n\".join(doc.text for doc in documents)\n",
    "            combined_doc = Document(text=full_text)\n",
    "            node_parser = SimpleNodeParser()\n",
    "            nodes = node_parser.get_nodes_from_documents([combined_doc])\n",
    "            # create the index\n",
    "            index = VectorStoreIndex(nodes)\n",
    "            # remove \"Kenya-ARV-Guidelines-2022-\" from filename\n",
    "            short_filename = filename.replace(\"Kenya-ARV-Guidelines-2022-\",\"\").replace(\".pdf\", \"\")\n",
    "            # persist the index\n",
    "            index.storage_context.persist(f\"lp/indices/{short_filename}\")\n",
    "        \n",
    "await parse_docs()\n"
   ]
  },
  {
   "cell_type": "code",
   "execution_count": null,
   "id": "7135ce0d",
   "metadata": {},
   "outputs": [],
   "source": []
  },
  {
   "cell_type": "code",
   "execution_count": null,
   "id": "bfa61623",
   "metadata": {},
   "outputs": [],
   "source": []
  }
 ],
 "metadata": {
  "kernelspec": {
   "display_name": "clinician-assistant-lg",
   "language": "python",
   "name": "python3"
  },
  "language_info": {
   "codemirror_mode": {
    "name": "ipython",
    "version": 3
   },
   "file_extension": ".py",
   "mimetype": "text/x-python",
   "name": "python",
   "nbconvert_exporter": "python",
   "pygments_lexer": "ipython3",
   "version": "3.12.1"
  }
 },
 "nbformat": 4,
 "nbformat_minor": 5
}
