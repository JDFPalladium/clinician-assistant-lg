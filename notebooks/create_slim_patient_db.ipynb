{
 "cells": [
  {
   "cell_type": "code",
   "execution_count": 4,
   "id": "c867740b",
   "metadata": {},
   "outputs": [],
   "source": [
    "import sqlite3\n",
    "import pandas as pd\n",
    "# inspect current database schema\n",
    "conn = sqlite3.connect('../data/raw/iit_test.sqlite')\n",
    "cursor = conn.cursor()\n",
    "# list tables\n",
    "# pull all data from the visits table \n",
    "cursor.execute(\"SELECT * FROM visits;\")\n",
    "rows = cursor.fetchall()\n",
    "df = pd.DataFrame(rows, columns=[column[0] for column in cursor.description])\n",
    "conn.close()"
   ]
  },
  {
   "cell_type": "code",
   "execution_count": 5,
   "id": "f424fcf6",
   "metadata": {},
   "outputs": [
    {
     "name": "stderr",
     "output_type": "stream",
     "text": [
      "/tmp/ipykernel_12725/435846127.py:11: SettingWithCopyWarning: \n",
      "A value is trying to be set on a copy of a slice from a DataFrame.\n",
      "Try using .loc[row_indexer,col_indexer] = value instead\n",
      "\n",
      "See the caveats in the documentation: https://pandas.pydata.org/pandas-docs/stable/user_guide/indexing.html#returning-a-view-versus-a-copy\n",
      "  sampled_df['PatientPKHash'] = sampled_df['PatientPKHash'].map(key_to_number)\n"
     ]
    }
   ],
   "source": [
    "# pick ten unique keys at random from df without replacement\n",
    "sampled_keys = df['PatientPKHash'].drop_duplicates().sample(n=10, random_state=42).tolist()\n",
    "\n",
    "# filter dataframe to only include sampled keys\n",
    "sampled_df = df[df['PatientPKHash'].isin(sampled_keys)]\n",
    "\n",
    "# create a dict with key as key and numbers 1-10 as values\n",
    "key_to_number = {key: i+1 for i, key in enumerate(sampled_keys)}\n",
    "\n",
    "# replace key column in sampled_df with corresponding number from key_to_number\n",
    "sampled_df['PatientPKHash'] = sampled_df['PatientPKHash'].map(key_to_number)\n",
    "\n",
    "# save sampled_df back to iit_test.sqlite as a new table called sampled_visits\n",
    "sampled_conn = sqlite3.connect('../data/raw/patient_slim.sqlite')\n",
    "sampled_df.to_sql('visits', sampled_conn, if_exists='replace', index=False)\n",
    "sampled_conn.close()"
   ]
  },
  {
   "cell_type": "code",
   "execution_count": 6,
   "id": "1bad1098",
   "metadata": {},
   "outputs": [
    {
     "name": "stderr",
     "output_type": "stream",
     "text": [
      "/tmp/ipykernel_12725/2381592446.py:11: SettingWithCopyWarning: \n",
      "A value is trying to be set on a copy of a slice from a DataFrame.\n",
      "Try using .loc[row_indexer,col_indexer] = value instead\n",
      "\n",
      "See the caveats in the documentation: https://pandas.pydata.org/pandas-docs/stable/user_guide/indexing.html#returning-a-view-versus-a-copy\n",
      "  sampled_pharmacy_df['PatientPKHash'] = sampled_pharmacy_df['PatientPKHash'].map(key_to_number)\n"
     ]
    }
   ],
   "source": [
    "# now, read in pharmacy table from iit_test.sqlite\n",
    "conn = sqlite3.connect('../data/raw/iit_test.sqlite')\n",
    "cursor = conn.cursor()\n",
    "cursor.execute(\"SELECT * FROM pharmacy;\")\n",
    "rows = cursor.fetchall()\n",
    "pharmacy_df = pd.DataFrame(rows, columns=[column[0] for column in cursor.description])\n",
    "conn.close()\n",
    "\n",
    "# filter these to the same 10 keys, replace the keys with numbers 1-10, and save to patient_slim.sqlite as a new table called sampled_pharmacy\n",
    "sampled_pharmacy_df = pharmacy_df[pharmacy_df['PatientPKHash'].isin(sampled_keys)]\n",
    "sampled_pharmacy_df['PatientPKHash'] = sampled_pharmacy_df['PatientPKHash'].map(key_to_number)\n",
    "sampled_conn = sqlite3.connect('../data/raw/patient_slim.sqlite')\n",
    "sampled_pharmacy_df.to_sql('pharmacy', sampled_conn, if_exists='replace', index=False)\n",
    "sampled_conn.close()\n"
   ]
  },
  {
   "cell_type": "code",
   "execution_count": 7,
   "id": "df01b886",
   "metadata": {},
   "outputs": [
    {
     "name": "stderr",
     "output_type": "stream",
     "text": [
      "/tmp/ipykernel_12725/4028870248.py:11: SettingWithCopyWarning: \n",
      "A value is trying to be set on a copy of a slice from a DataFrame.\n",
      "Try using .loc[row_indexer,col_indexer] = value instead\n",
      "\n",
      "See the caveats in the documentation: https://pandas.pydata.org/pandas-docs/stable/user_guide/indexing.html#returning-a-view-versus-a-copy\n",
      "  sampled_lab_df['PatientPKHash'] = sampled_lab_df['PatientPKHash'].map(key_to_number)\n"
     ]
    }
   ],
   "source": [
    "# repeat the process above for lab table\n",
    "conn = sqlite3.connect('../data/raw/iit_test.sqlite')\n",
    "cursor = conn.cursor()\n",
    "cursor.execute(\"SELECT * FROM lab;\")\n",
    "rows = cursor.fetchall()\n",
    "lab_df = pd.DataFrame(rows, columns=[column[0] for column in cursor.description])\n",
    "conn.close()\n",
    "\n",
    "# filter these to the same 10 keys, replace the keys with numbers 1-10, and save to patient_slim.sqlite as a new table called sampled_lab\n",
    "sampled_lab_df = lab_df[lab_df['PatientPKHash'].isin(sampled_keys)]\n",
    "sampled_lab_df['PatientPKHash'] = sampled_lab_df['PatientPKHash'].map(key_to_number)\n",
    "sampled_conn = sqlite3.connect('../data/raw/patient_slim.sqlite')\n",
    "sampled_lab_df.to_sql('lab', sampled_conn, if_exists='replace', index=False)\n",
    "sampled_conn.close()\n"
   ]
  },
  {
   "cell_type": "code",
   "execution_count": 8,
   "id": "ebf358c5",
   "metadata": {},
   "outputs": [
    {
     "name": "stderr",
     "output_type": "stream",
     "text": [
      "/tmp/ipykernel_12725/696424165.py:11: SettingWithCopyWarning: \n",
      "A value is trying to be set on a copy of a slice from a DataFrame.\n",
      "Try using .loc[row_indexer,col_indexer] = value instead\n",
      "\n",
      "See the caveats in the documentation: https://pandas.pydata.org/pandas-docs/stable/user_guide/indexing.html#returning-a-view-versus-a-copy\n",
      "  sampled_dem_df['PatientPKHash'] = sampled_dem_df['PatientPKHash'].map(key_to_number)\n"
     ]
    }
   ],
   "source": [
    "# now, from dem table\n",
    "conn = sqlite3.connect('../data/raw/iit_test.sqlite')\n",
    "cursor = conn.cursor()\n",
    "cursor.execute(\"SELECT * FROM dem;\")\n",
    "rows = cursor.fetchall()\n",
    "dem_df = pd.DataFrame(rows, columns=[column[0] for column in cursor.description])\n",
    "conn.close()    \n",
    "\n",
    "# filter these to the same 10 keys, replace the keys with numbers 1-10, and save to patient_slim.sqlite as a new table called sampled_dem\n",
    "sampled_dem_df = dem_df[dem_df['PatientPKHash'].isin(sampled_keys)]\n",
    "sampled_dem_df['PatientPKHash'] = sampled_dem_df['PatientPKHash'].map(key_to_number)\n",
    "sampled_conn = sqlite3.connect('../data/raw/patient_slim.sqlite')\n",
    "sampled_dem_df.to_sql('demographics', sampled_conn, if_exists='replace', index=False)\n",
    "sampled_conn.close()"
   ]
  }
 ],
 "metadata": {
  "kernelspec": {
   "display_name": "clinician-assistant-lg",
   "language": "python",
   "name": "python3"
  },
  "language_info": {
   "codemirror_mode": {
    "name": "ipython",
    "version": 3
   },
   "file_extension": ".py",
   "mimetype": "text/x-python",
   "name": "python",
   "nbconvert_exporter": "python",
   "pygments_lexer": "ipython3",
   "version": "3.12.1"
  }
 },
 "nbformat": 4,
 "nbformat_minor": 5
}
