{
 "cells": [
  {
   "cell_type": "code",
   "execution_count": 8,
   "id": "1c8c38eb",
   "metadata": {},
   "outputs": [],
   "source": [
    "import sqlite3\n",
    "import pandas as pd\n",
    "\n",
    "# read in kenya_disease_county_matrix.csv and sitecode_county_xwalk.csv\n",
    "disease_df = pd.read_csv('kenya_disease_county_matrix.csv')\n",
    "xwalk_df = pd.read_csv('sitecode_county_xwalk.csv')\n",
    "rainy_df = pd.read_csv('kenya_counties_rainy_seasons.csv')\n",
    "who_df = pd.read_csv('who_bulletin.csv')\n"
   ]
  },
  {
   "cell_type": "code",
   "execution_count": 9,
   "id": "f0c63494",
   "metadata": {},
   "outputs": [],
   "source": [
    "# create sqlite database\n",
    "conn = sqlite3.connect('location_data.sqlite')\n",
    "cursor = conn.cursor()\n",
    "\n",
    "# add each dataframe to a table in the database\n",
    "disease_df.to_sql('county_disease_info', conn, if_exists='replace', index=False)\n",
    "xwalk_df.to_sql('sitecode_county_xwalk', conn, if_exists='replace', index=False)\n",
    "rainy_df.to_sql('county_rainy_seasons', conn, if_exists='replace', index=False)\n",
    "who_df.to_sql('who_bulletin', conn, if_exists='replace', index=False)\n",
    "\n",
    "# commit changes and close connection\n",
    "conn.commit()\n",
    "conn.close()"
   ]
  },
  {
   "cell_type": "code",
   "execution_count": 7,
   "id": "c12e58cf",
   "metadata": {},
   "outputs": [
    {
     "name": "stdout",
     "output_type": "stream",
     "text": [
      "['County', 'Disease', 'Prevalence Level', 'Notes']\n"
     ]
    }
   ],
   "source": [
    "# get table in location_data.sqlite and show column names\n",
    "import sqlite3\n",
    "conn = sqlite3.connect('location_data.sqlite')\n",
    "cursor = conn.cursor()\n",
    "cursor.execute(\"SELECT * FROM county_disease_info;\")\n",
    "tables = cursor.fetchall()\n",
    "columns = [column[0] for column in cursor.description]\n",
    "print(columns)"
   ]
  }
 ],
 "metadata": {
  "kernelspec": {
   "display_name": ".venv",
   "language": "python",
   "name": "python3"
  },
  "language_info": {
   "codemirror_mode": {
    "name": "ipython",
    "version": 3
   },
   "file_extension": ".py",
   "mimetype": "text/x-python",
   "name": "python",
   "nbconvert_exporter": "python",
   "pygments_lexer": "ipython3",
   "version": "3.12.1"
  }
 },
 "nbformat": 4,
 "nbformat_minor": 5
}
